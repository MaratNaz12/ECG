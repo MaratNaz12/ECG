{
  "cells": [
    {
      "cell_type": "markdown",
      "metadata": {
        "id": "pgYdY0rUerwu"
      },
      "source": [
        "# Import"
      ]
    },
    {
      "cell_type": "code",
      "execution_count": 2,
      "metadata": {
        "colab": {
          "base_uri": "https://localhost:8080/"
        },
        "id": "lrd2CixBbopP",
        "outputId": "b942e8f5-1946-4da5-a874-943693a13eac"
      },
      "outputs": [
        {
          "output_type": "stream",
          "name": "stdout",
          "text": [
            "Collecting torchmetrics\n",
            "  Downloading torchmetrics-1.1.0-py3-none-any.whl (761 kB)\n",
            "\u001b[2K     \u001b[90m━━━━━━━━━━━━━━━━━━━━━━━━━━━━━━━━━━━━━━━\u001b[0m \u001b[32m761.3/761.3 kB\u001b[0m \u001b[31m7.0 MB/s\u001b[0m eta \u001b[36m0:00:00\u001b[0m\n",
            "\u001b[?25hRequirement already satisfied: numpy>1.20.0 in /usr/local/lib/python3.10/dist-packages (from torchmetrics) (1.23.5)\n",
            "Requirement already satisfied: torch>=1.8.1 in /usr/local/lib/python3.10/dist-packages (from torchmetrics) (2.0.1+cu118)\n",
            "Requirement already satisfied: packaging in /usr/local/lib/python3.10/dist-packages (from torchmetrics) (23.1)\n",
            "Collecting lightning-utilities>=0.8.0 (from torchmetrics)\n",
            "  Downloading lightning_utilities-0.9.0-py3-none-any.whl (23 kB)\n",
            "Requirement already satisfied: typing-extensions in /usr/local/lib/python3.10/dist-packages (from lightning-utilities>=0.8.0->torchmetrics) (4.7.1)\n",
            "Requirement already satisfied: filelock in /usr/local/lib/python3.10/dist-packages (from torch>=1.8.1->torchmetrics) (3.12.2)\n",
            "Requirement already satisfied: sympy in /usr/local/lib/python3.10/dist-packages (from torch>=1.8.1->torchmetrics) (1.12)\n",
            "Requirement already satisfied: networkx in /usr/local/lib/python3.10/dist-packages (from torch>=1.8.1->torchmetrics) (3.1)\n",
            "Requirement already satisfied: jinja2 in /usr/local/lib/python3.10/dist-packages (from torch>=1.8.1->torchmetrics) (3.1.2)\n",
            "Requirement already satisfied: triton==2.0.0 in /usr/local/lib/python3.10/dist-packages (from torch>=1.8.1->torchmetrics) (2.0.0)\n",
            "Requirement already satisfied: cmake in /usr/local/lib/python3.10/dist-packages (from triton==2.0.0->torch>=1.8.1->torchmetrics) (3.27.2)\n",
            "Requirement already satisfied: lit in /usr/local/lib/python3.10/dist-packages (from triton==2.0.0->torch>=1.8.1->torchmetrics) (16.0.6)\n",
            "Requirement already satisfied: MarkupSafe>=2.0 in /usr/local/lib/python3.10/dist-packages (from jinja2->torch>=1.8.1->torchmetrics) (2.1.3)\n",
            "Requirement already satisfied: mpmath>=0.19 in /usr/local/lib/python3.10/dist-packages (from sympy->torch>=1.8.1->torchmetrics) (1.3.0)\n",
            "Installing collected packages: lightning-utilities, torchmetrics\n",
            "Successfully installed lightning-utilities-0.9.0 torchmetrics-1.1.0\n"
          ]
        }
      ],
      "source": [
        "import numpy as np\n",
        "\n",
        "import os\n",
        "import torch\n",
        "import torch.nn as nn\n",
        "import torch.nn.functional as F\n",
        "\n",
        "from torch.utils.data import DataLoader\n",
        "from torch.utils.data import random_split\n",
        "\n",
        "from torch.utils.data import Dataset\n",
        "!pip install torchmetrics\n",
        "from torchmetrics.classification import BinaryF1Score\n",
        "\n",
        "from torchmetrics.classification import BinaryF1Score\n",
        "from torchmetrics.classification import BinaryRecall\n",
        "from torchmetrics.classification import BinarySpecificity\n",
        "from torchmetrics.classification import BinaryAUROC\n",
        "from torchmetrics.classification import BinaryAccuracy\n",
        "\n",
        "from tqdm import tqdm"
      ]
    },
    {
      "cell_type": "markdown",
      "metadata": {
        "id": "R-Af7XqVcekW"
      },
      "source": [
        " # DataSet & DataLoader preparation\n"
      ]
    },
    {
      "cell_type": "code",
      "source": [
        "from google.colab import drive\n",
        "drive.mount('/content/drive')"
      ],
      "metadata": {
        "colab": {
          "base_uri": "https://localhost:8080/"
        },
        "id": "3Jfa19qwLKGJ",
        "outputId": "6a838924-d200-46ae-973b-f2e2eb3382e9"
      },
      "execution_count": 3,
      "outputs": [
        {
          "output_type": "stream",
          "name": "stdout",
          "text": [
            "Drive already mounted at /content/drive; to attempt to forcibly remount, call drive.mount(\"/content/drive\", force_remount=True).\n"
          ]
        }
      ]
    },
    {
      "cell_type": "markdown",
      "metadata": {
        "id": "wxPI5ajGLFoG"
      },
      "source": [
        "## Dataset"
      ]
    },
    {
      "cell_type": "code",
      "execution_count": 4,
      "metadata": {
        "id": "bo5QcMZjM4hp"
      },
      "outputs": [],
      "source": [
        "class DatasetPTBXL(Dataset):\n",
        "\n",
        "    def __init__(self, path,p_list,p_name):\n",
        "        self.path = path\n",
        "        self.len = len(os.listdir(self.path))\n",
        "        self.target_list = p_list\n",
        "        self.target_name = p_name\n",
        "    def __len__(self):\n",
        "        return self.len\n",
        "\n",
        "\n",
        "    def __getitem__(self, idx):\n",
        "        file = np.load(path + str(idx+1) + '.npy', allow_pickle=True).item()\n",
        "        return torch.from_numpy(file['data']).type('torch.FloatTensor'), torch.from_numpy(file['target'][ptlg_list.index(ptlg_name)]).type('torch.FloatTensor')"
      ]
    },
    {
      "cell_type": "markdown",
      "metadata": {
        "id": "OrZnCuXpLFoH"
      },
      "source": [
        "## Inputs"
      ]
    },
    {
      "cell_type": "code",
      "execution_count": 5,
      "metadata": {
        "id": "BqCT5y0jLFoI"
      },
      "outputs": [],
      "source": [
        "# path = '/home/narmarinad_12/Desktop/ECG/files_processed/'\n",
        "path = '/content/drive/MyDrive/files_processed/'\n",
        "ptlg_list = ['SR', 'AFIB', 'STACH', 'SARRH', 'SBRAD', 'PACE', 'SVARR', 'BIGU', 'AFLT', 'SVTAC', 'PSVT', 'TRIGU']\n",
        "ptlg_name = 'SR'\n"
      ]
    },
    {
      "cell_type": "markdown",
      "metadata": {
        "id": "2dqXdxrfLFoJ"
      },
      "source": [
        "## Split and DataLoad"
      ]
    },
    {
      "cell_type": "code",
      "execution_count": 6,
      "metadata": {
        "id": "QqE4ncf0x-SY"
      },
      "outputs": [],
      "source": [
        "train_dataset = DatasetPTBXL(path,ptlg_list,ptlg_name)\n",
        "\n",
        "tmp_len = len(train_dataset)\n",
        "train_size = int (0.8 * tmp_len)\n",
        "valid_size = int (0.1 * tmp_len)\n",
        "test_size = tmp_len - train_size - valid_size\n",
        "\n",
        "train_dataset, valid_dataset,test_dataset = random_split(train_dataset, [train_size, valid_size, test_size])\n",
        "batch_size = 500\n",
        "train_dataset = DataLoader(train_dataset, batch_size, num_workers = 1, pin_memory = True )\n",
        "valid_dataset = DataLoader(valid_dataset, batch_size, num_workers = 1, pin_memory = True )\n",
        "test_dataset  = DataLoader(test_dataset , batch_size, num_workers = 1, pin_memory = True )"
      ]
    },
    {
      "cell_type": "markdown",
      "metadata": {
        "id": "_uu8Y928Rf3A"
      },
      "source": [
        "# Model\n",
        "\n",
        "\n",
        "\n"
      ]
    },
    {
      "cell_type": "markdown",
      "metadata": {
        "id": "Olss4T5wLFoK"
      },
      "source": [
        "![resnet-architecture-3-fotor-202308251314.jpg](attachment:resnet-architecture-3-fotor-202308251314.jpg)\n"
      ]
    },
    {
      "cell_type": "code",
      "execution_count": 7,
      "metadata": {
        "id": "YWShc0EwYxYj"
      },
      "outputs": [],
      "source": [
        "class RhythmECGClassification(nn.Module):\n",
        "\n",
        "    def __init__(self, in_channels, out_channels):\n",
        "\n",
        "        super(RhythmECGClassification, self).__init__()\n",
        "\n",
        "        self.in_channels = in_channels\n",
        "\n",
        "        self.relu = nn.ReLU()\n",
        "\n",
        "        self.block0 = nn.Sequential(nn.Conv1d(in_channels, 64, kernel_size=7, stride=2, padding=3),\n",
        "                                    nn.BatchNorm1d(64),\n",
        "                                    nn.ReLU(), nn.MaxPool1d(kernel_size=3, stride=2, padding=1))\n",
        "\n",
        "        self.block1 = nn.Sequential(nn.Conv1d(64,64, kernel_size = 3, stride = 1, padding = 1),\n",
        "                                    nn.BatchNorm1d(64),\n",
        "                                    nn.ReLU(),\n",
        "                                    nn.Conv1d(64,64, kernel_size = 3, stride = 1, padding = 1),\n",
        "                                    nn.BatchNorm1d(64))\n",
        "\n",
        "        self.block2 = nn.Sequential(nn.Conv1d(64,128, kernel_size = 3, stride = 2, padding = 1),\n",
        "                                    nn.BatchNorm1d(128),\n",
        "                                    nn.ReLU(),\n",
        "                                    nn.Conv1d(128,128, kernel_size = 3, stride = 1, padding = 1),\n",
        "                                    nn.BatchNorm1d(128))\n",
        "\n",
        "        self.block3 = nn.Sequential(nn.Conv1d(128,128, kernel_size = 3, stride = 1, padding = 1),\n",
        "                                    nn.BatchNorm1d(128),\n",
        "                                    nn.ReLU(),\n",
        "                                    nn.Conv1d(128,128, kernel_size = 3, stride = 1, padding = 1),\n",
        "                                    nn.BatchNorm1d(128))\n",
        "\n",
        "        self.block4 = nn.Sequential(nn.Conv1d(128,256, kernel_size = 3, stride = 2, padding = 1),\n",
        "                                    nn.BatchNorm1d(256),\n",
        "                                    nn.ReLU(),\n",
        "                                    nn.Conv1d(256,256, kernel_size = 3, stride = 1, padding = 1),\n",
        "                                    nn.BatchNorm1d(256))\n",
        "\n",
        "        self.block5 = nn.Sequential(nn.Conv1d(256,256, kernel_size = 3, stride = 1, padding = 1),\n",
        "                                    nn.BatchNorm1d(256),\n",
        "                                    nn.ReLU(),\n",
        "                                    nn.Conv1d(256,256, kernel_size = 3, stride = 1, padding = 1),\n",
        "                                    nn.BatchNorm1d(256))\n",
        "\n",
        "        self.block6 = nn.Sequential(nn.Conv1d(256,512, kernel_size = 3, stride = 2, padding = 1),\n",
        "                                    nn.BatchNorm1d(512),\n",
        "                                    nn.ReLU(),\n",
        "                                    nn.Conv1d(512,512, kernel_size = 3, stride = 1, padding = 1),\n",
        "                                    nn.BatchNorm1d(512))\n",
        "\n",
        "        self.block7 = nn.Sequential(nn.Conv1d(512,512, kernel_size = 3, stride = 1, padding = 1),\n",
        "                                    nn.BatchNorm1d(512),\n",
        "                                    nn.ReLU(),\n",
        "                                    nn.Conv1d(512,512, kernel_size = 3, stride = 1, padding = 1),\n",
        "                                    nn.BatchNorm1d(512))\n",
        "\n",
        "        self.block8 = nn.Sequential(nn.AdaptiveAvgPool1d(1), nn.Flatten(),\n",
        "                                    nn.Linear(512, 1000), nn.ReLU(),\n",
        "                                    nn.Linear(1000,out_channels), nn.Sigmoid())\n",
        "\n",
        "        self.ident1 = nn.Sequential(nn.Conv1d(64, 128, kernel_size=3, stride=2, padding=1),\n",
        "                                    nn.BatchNorm1d(128))\n",
        "\n",
        "        self.ident2 = nn.Sequential(nn.Conv1d(128, 256, kernel_size=3, stride=2, padding=1),\n",
        "                                    nn.BatchNorm1d(256))\n",
        "\n",
        "        self.ident3 = nn.Sequential(nn.Conv1d(256, 512, kernel_size=3, stride=2, padding=1),\n",
        "                                    nn.BatchNorm1d(512))\n",
        "\n",
        "\n",
        "    def forward(self, x):\n",
        "\n",
        "        x = self.block0(x)\n",
        "\n",
        "        for i in range (3):\n",
        "            identity = x\n",
        "            x = self.block1(x) + identity\n",
        "            x = self.relu(x)\n",
        "\n",
        "        identity = self.ident1(x)\n",
        "        x = self.block2(x) + identity\n",
        "        x = self.relu(x)\n",
        "\n",
        "        for i in range (3):\n",
        "            identity = x\n",
        "            x = self.block3(x) + identity\n",
        "            x = self.relu(x)\n",
        "\n",
        "        identity = self.ident2(x)\n",
        "        x = self.block4(x) + identity\n",
        "        x = self.relu(x)\n",
        "\n",
        "        for i in range (5):\n",
        "            identity = x\n",
        "            x = self.block5(x) + identity\n",
        "            x = self.relu(x)\n",
        "\n",
        "        identity = self.ident3(x)\n",
        "        x = self.block6(x) + identity\n",
        "        x = self.relu(x)\n",
        "\n",
        "        for i in range (2):\n",
        "            identity = x\n",
        "            x = self.block7(x) + identity\n",
        "            x = self.relu(x)\n",
        "\n",
        "        x = self.block8(x)\n",
        "        return x\n",
        "\n",
        "\n",
        "    def training_step(self,batch):\n",
        "        signals,targets = batch\n",
        "        preds = self((signals))\n",
        "        loss = nn.BCELoss()\n",
        "        return loss(preds, targets)\n",
        "\n",
        "\n",
        "    def validation_step(self,batch):\n",
        "        signals,targets = batch\n",
        "        preds = self((signals.float()))\n",
        "        return { 'batch_preds': preds.detach(), 'batch_targets': targets}"
      ]
    },
    {
      "cell_type": "markdown",
      "metadata": {
        "id": "vp_phd_sZa27"
      },
      "source": [
        "# Evaluation\n",
        "\n",
        "    \n",
        "\n",
        "\n",
        "\n"
      ]
    },
    {
      "cell_type": "code",
      "execution_count": 8,
      "metadata": {
        "id": "IlY1ZXYdmjcv"
      },
      "outputs": [],
      "source": [
        "#calculating metrics of epoch, returning dict of metrics\n",
        "def evaluate(model, valid_dataset,device):\n",
        "    model.eval()\n",
        "\n",
        "    metric_F1 = BinaryF1Score().to(device)\n",
        "    metric_Rec = BinaryRecall().to(device)\n",
        "    metric_Spec = BinarySpecificity().to(device)\n",
        "    metric_AUC = BinaryAUROC(thresholds=None).to(device)\n",
        "    metric_Acc = BinaryAccuracy().to(device)\n",
        "\n",
        "    with torch.no_grad():\n",
        "        for batch in valid_dataset:\n",
        "            data, target = batch\n",
        "            data   = data.to(device)\n",
        "            target = target.to(device)\n",
        "            tmp = model.validation_step((data,target))\n",
        "\n",
        "            metric_F1(tmp['batch_preds'], tmp['batch_targets'] )\n",
        "            metric_Rec(tmp['batch_preds'], tmp['batch_targets'] )\n",
        "            metric_Spec(tmp['batch_preds'], tmp['batch_targets'] )\n",
        "            metric_AUC(tmp['batch_preds'], tmp['batch_targets'] )\n",
        "            metric_Acc(tmp['batch_preds'], tmp['batch_targets'] )\n",
        "\n",
        "\n",
        "\n",
        "    return {'model_acc': metric_Acc.compute().item(),\n",
        "          'model_F1score': metric_F1.compute().item(),\n",
        "          'model_Recall': metric_Rec.compute().item(),\n",
        "          'model_Specificity': metric_Spec.compute().item(),\n",
        "          'model_ROCAUC': metric_AUC.compute().item() }\n"
      ]
    },
    {
      "cell_type": "code",
      "execution_count": 9,
      "metadata": {
        "id": "I2uHJXstfglx"
      },
      "outputs": [],
      "source": [
        "import matplotlib.pyplot as plt\n",
        "\n",
        "def visual_res(history, epochs_num ):\n",
        "    plt.title('Динамика обучения')\n",
        "    plt.xlabel('Эпоха')\n",
        "    plt.ylabel('Метрика')\n",
        "\n",
        "\n",
        "    # list_of_metrics содержит наборы значений метрик для построения графика метрика/номер эпохи\n",
        "    plt.plot(list(range(epochs_num)), [x['model_F1score'] for x in history],label = 'F1')\n",
        "    plt.plot(list(range(epochs_num)), [x['model_Recall'] for x in history],label = 'Recall')\n",
        "    plt.plot(list(range(epochs_num)), [x['model_Specificity'] for x in history], label = 'Specificity')\n",
        "    plt.plot(list(range(epochs_num)), [x['model_ROCAUC'] for x in history], label = 'AUC')\n",
        "    plt.plot(list(range(epochs_num)), [x['model_acc'] for x in history], label = 'Acc')\n",
        "    # plt.plot(list(range(epoch_num)), [x['epoch_loss'] for x in history], label = 'loss')\n",
        "    plt.grid(True)\n",
        "    plt.legend()\n",
        "    #построение графиков"
      ]
    },
    {
      "cell_type": "markdown",
      "metadata": {
        "id": "YFAkSs_HRluI"
      },
      "source": [
        "# Training function\n",
        "\n"
      ]
    },
    {
      "cell_type": "code",
      "execution_count": 12,
      "metadata": {
        "id": "hdbHD-kRSsgP"
      },
      "outputs": [],
      "source": [
        "def fit(epochs_num, lr,model, opt = torch.optim.Adam, wd = True, gc = True):\n",
        "\n",
        "    device = torch.device('cuda' if torch.cuda.is_available() else 'cpu')\n",
        "    model = model.to(device)\n",
        "    optimizer = opt(model.parameters(), lr, weight_decay = wd)\n",
        "    history = []\n",
        "\n",
        "\n",
        "    for epoch in range(epochs_num):\n",
        "        torch.cuda.empty_cache()\n",
        "        model.train()\n",
        "        train_loss = 0\n",
        "        samples_num = 0\n",
        "\n",
        "        for batch in tqdm(train_dataset):\n",
        "            data, target = batch\n",
        "            data   = data.to(device)\n",
        "            target = target.to(device)\n",
        "            loss = model.training_step((data,target))\n",
        "            loss.backward()\n",
        "#             if gc == True:\n",
        "#                 torch.nn.utils.clip_grad_norm_(model.parameters(), args.clip)\n",
        "            optimizer.step()\n",
        "#             optimizer.zero_grad()\n",
        "\n",
        "            train_loss  += loss.detach()\n",
        "            samples_num += len(data)\n",
        "\n",
        "        result = evaluate(model, valid_dataset, device)\n",
        "        result['train_loss'] = train_loss / samples_num\n",
        "        history.append(result)\n",
        "\n",
        "        print('Epoch ', epoch,end = \"\")\n",
        "        print(': train_loss = %.4f'%(train_loss/ samples_num))\n",
        "\n",
        "    return history\n",
        "\n",
        "\n",
        "def train_model(epochs_num, lr, opt = torch.optim.Adam, wd = True, gc = True):\n",
        "    model = RhythmECGClassification(12,1)\n",
        "    history = fit(epochs_num, lr, model)\n",
        "    visual_res(history,epochs_num)\n",
        "    return model"
      ]
    },
    {
      "cell_type": "markdown",
      "metadata": {
        "id": "S82ShM-btFcw"
      },
      "source": [
        "# 6. Тренировка модели\n"
      ]
    },
    {
      "cell_type": "code",
      "execution_count": null,
      "metadata": {
        "id": "QZtNa06qDNGU",
        "colab": {
          "base_uri": "https://localhost:8080/"
        },
        "outputId": "5ae91a2e-fee0-4084-c0d7-c920190e535a"
      },
      "outputs": [
        {
          "output_type": "stream",
          "name": "stderr",
          "text": [
            " 14%|█▍        | 5/35 [18:18<1:48:59, 218.00s/it]"
          ]
        }
      ],
      "source": [
        "lr = 0.0003\n",
        "epochs_num = 10\n",
        "model = train_model(epochs_num, lr)"
      ]
    },
    {
      "cell_type": "code",
      "execution_count": null,
      "metadata": {
        "id": "FLeXvXzuB-WO"
      },
      "outputs": [],
      "source": [
        "# res = train_model(res, lr,epochs,device, pat)\n",
        "# eval = evaluate(res, test_dataset,device)\n",
        "# for keys in eval:\n",
        "#     print(keys, '=' ,eval[keys])"
      ]
    }
  ],
  "metadata": {
    "colab": {
      "gpuType": "T4",
      "provenance": []
    },
    "kernelspec": {
      "display_name": "Python 3",
      "name": "python3"
    },
    "language_info": {
      "codemirror_mode": {
        "name": "ipython",
        "version": 3
      },
      "file_extension": ".py",
      "mimetype": "text/x-python",
      "name": "python",
      "nbconvert_exporter": "python",
      "pygments_lexer": "ipython3",
      "version": "3.11.4"
    },
    "accelerator": "GPU"
  },
  "nbformat": 4,
  "nbformat_minor": 0
}
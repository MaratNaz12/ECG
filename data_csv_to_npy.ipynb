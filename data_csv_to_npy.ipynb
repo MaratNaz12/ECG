{
 "cells": [
  {
   "cell_type": "code",
   "execution_count": 1,
   "id": "da09ceb8",
   "metadata": {},
   "outputs": [],
   "source": [
    "import numpy as np\n",
    "import wfdb\n",
    "import ast"
   ]
  },
  {
   "cell_type": "markdown",
   "id": "d93f0c78",
   "metadata": {},
   "source": [
    "# Обработка данных\n",
    "\n",
    "### Построчно проходим по файлу ptbxl_database.csv, создаем вектор бинарных таргетов по патологиям [12x1] и, используя имена файлов из таблицы, обращаемся к ним и с помощью wfdb.rdsamp получаем матрицу данных [12x5000]. Далее создаем словарик из data/targets и записываем его в файл.npy \n",
    "### файл scp_statements.csv нужен, чтобы получить список всех патологий\n",
    "### (возможно, стоит использвать альернативу словарику, так как файлы получаются тяжелыми.)"
   ]
  },
  {
   "cell_type": "code",
   "execution_count": null,
   "id": "68f24061",
   "metadata": {},
   "outputs": [],
   "source": [
    "def aggregate_diagnostic(y_dic):\n",
    "      tmp = np.zeros((len(target_list),1))\n",
    "      for i in range (len(target_list)):\n",
    "          if target_list[i] in y_dic:\n",
    "              tmp[i] = 1\n",
    "      return tmp\n",
    "        \n",
    "def load_raw_data(df, sampling_rate, path):\n",
    "    count = 1\n",
    "    for index, row in df.iterrows():\n",
    "\n",
    "        trn,_ = wfdb.rdsamp(path+row[dir_name])\n",
    "        trn = np.array(trn).T\n",
    "\n",
    "        trgt = ast.literal_eval(row['scp_codes']) \n",
    "        trgt =aggregate_diagnostic(trgt)\n",
    "        \n",
    "        \n",
    "        tmp_dict = {'data': trn, 'target': trgt}\n",
    "        np.save(path+'files_processed/'+str(count)+'.npy', tmp_dict)\n",
    "        count+=1\n"
   ]
  },
  {
   "cell_type": "code",
   "execution_count": null,
   "id": "89fe724f",
   "metadata": {},
   "outputs": [],
   "source": [
    "path = \"/home/narmarinad_12/Desktop/project1/ecg/\"\n",
    "sampling_rate = 500\n",
    "#lr -> 100 hr -> 500\n",
    "if sampling_rate == 100: dir_name = 'filename_lr'\n",
    "else:                    dir_name = 'filename_hr'\n",
    "\n",
    "agg_df = pd.read_csv(path+ 'scp_statements.csv', index_col=0)\n",
    "target_list  = list(agg_df[agg_df.rhythm == 1].index)\n",
    "\n",
    "Y = pd.read_csv(path+'ptbxl_database.csv', index_col='ecg_id')\n",
    "data = load_raw_data(Y, sampling_rate,path)\n"
   ]
  }
 ],
 "metadata": {
  "kernelspec": {
   "display_name": "Python 3 (ipykernel)",
   "language": "python",
   "name": "python3"
  },
  "language_info": {
   "codemirror_mode": {
    "name": "ipython",
    "version": 3
   },
   "file_extension": ".py",
   "mimetype": "text/x-python",
   "name": "python",
   "nbconvert_exporter": "python",
   "pygments_lexer": "ipython3",
   "version": "3.11.4"
  }
 },
 "nbformat": 4,
 "nbformat_minor": 5
}

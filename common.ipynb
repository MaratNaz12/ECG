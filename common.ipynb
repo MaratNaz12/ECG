{
 "cells": [
  {
   "cell_type": "markdown",
   "metadata": {
    "id": "pgYdY0rUerwu"
   },
   "source": [
    "# Import"
   ]
  },
  {
   "cell_type": "code",
   "execution_count": 1,
   "metadata": {
    "colab": {
     "base_uri": "https://localhost:8080/"
    },
    "id": "lrd2CixBbopP",
    "outputId": "b942e8f5-1946-4da5-a874-943693a13eac"
   },
   "outputs": [],
   "source": [
    "import torch.optim\n",
    "import data_preparation as dp\n",
    "import model as mdl\n",
    "import training as tr"
   ]
  },
  {
   "cell_type": "code",
   "execution_count": 4,
   "metadata": {},
   "outputs": [],
   "source": [
    "'''\n",
    "batch_size = 500\n",
    "t_s = 0.8\n",
    "v_s = 0.1\n",
    "num_workers = 1\n",
    "pin_memory = True\n",
    "batch_size = 500\n",
    "path = 'files_processed/'\n",
    "'''\n",
    "\n",
    "ptlg_name = 'SR'\n",
    "train_dataset,valid_dataset,test_dataset = dp.DatasetCreation(ptlg_name)\n"
   ]
  },
  {
   "cell_type": "code",
   "execution_count": null,
   "metadata": {
    "colab": {
     "base_uri": "https://localhost:8080/"
    },
    "id": "QZtNa06qDNGU",
    "outputId": "5ae91a2e-fee0-4084-c0d7-c920190e535a"
   },
   "outputs": [],
   "source": [
    "model = mdl.RhythmECGClassification(12,1)\n",
    "lr = 0.0003\n",
    "epochs_num = 10\n",
    "optim = torch.optim.Adam\n",
    "weight_decay = True\n",
    "grad_clipping = True\n",
    "device = torch.device('cuda' if torch.cuda.is_available() else 'cpu')\n",
    "\n",
    "\n",
    "model = tr.train_model(model, device, train_dataset, valid_dataset, epochs_num, lr)"
   ]
  },
  {
   "cell_type": "code",
   "execution_count": null,
   "metadata": {
    "id": "FLeXvXzuB-WO"
   },
   "outputs": [],
   "source": [
    "# res = train_model(res, lr,epochs,device, pat)\n",
    "# eval = evaluate(res, test_dataset,device)\n",
    "# for keys in eval:\n",
    "#     print(keys, '=' ,eval[keys])"
   ]
  }
 ],
 "metadata": {
  "accelerator": "GPU",
  "colab": {
   "gpuType": "T4",
   "provenance": []
  },
  "kernelspec": {
   "display_name": "Python 3 (ipykernel)",
   "language": "python",
   "name": "python3"
  },
  "language_info": {
   "codemirror_mode": {
    "name": "ipython",
    "version": 3
   },
   "file_extension": ".py",
   "mimetype": "text/x-python",
   "name": "python",
   "nbconvert_exporter": "python",
   "pygments_lexer": "ipython3",
   "version": "3.11.4"
  }
 },
 "nbformat": 4,
 "nbformat_minor": 1
}
